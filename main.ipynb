{
 "cells": [
  {
   "cell_type": "code",
   "execution_count": 1,
   "metadata": {},
   "outputs": [
    {
     "ename": "ImportError",
     "evalue": "dlopen(/Users/luis/miniforge3/envs/chess-ai/lib/python3.9/site-packages/chesscpp.cpython-39-darwin.so, 0x0002): symbol not found in flat namespace '__ZTV5Piece'",
     "output_type": "error",
     "traceback": [
      "\u001b[0;31m---------------------------------------------------------------------------\u001b[0m",
      "\u001b[0;31mImportError\u001b[0m                               Traceback (most recent call last)",
      "\u001b[1;32m/Users/luis/Dev/chess-ai/main.ipynb Cell 1'\u001b[0m in \u001b[0;36m<cell line: 1>\u001b[0;34m()\u001b[0m\n\u001b[0;32m----> <a href='vscode-notebook-cell:/Users/luis/Dev/chess-ai/main.ipynb#ch0000000?line=0'>1</a>\u001b[0m \u001b[39mfrom\u001b[39;00m \u001b[39mchesscpp\u001b[39;00m \u001b[39mimport\u001b[39;00m get_possible_boards\n",
      "\u001b[0;31mImportError\u001b[0m: dlopen(/Users/luis/miniforge3/envs/chess-ai/lib/python3.9/site-packages/chesscpp.cpython-39-darwin.so, 0x0002): symbol not found in flat namespace '__ZTV5Piece'"
     ]
    }
   ],
   "source": [
    "from chesscpp import get_possible_boards"
   ]
  },
  {
   "cell_type": "code",
   "execution_count": null,
   "metadata": {},
   "outputs": [],
   "source": []
  }
 ],
 "metadata": {
  "interpreter": {
   "hash": "5eb35854c35379a40f3aa934716129289ed77c6c29e95484c03e606cd6fb73bb"
  },
  "kernelspec": {
   "display_name": "Python 3.9.12 ('chess-ai')",
   "language": "python",
   "name": "python3"
  },
  "language_info": {
   "codemirror_mode": {
    "name": "ipython",
    "version": 3
   },
   "file_extension": ".py",
   "mimetype": "text/x-python",
   "name": "python",
   "nbconvert_exporter": "python",
   "pygments_lexer": "ipython3",
   "version": "3.9.12"
  },
  "orig_nbformat": 4
 },
 "nbformat": 4,
 "nbformat_minor": 2
}
