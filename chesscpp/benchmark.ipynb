{
 "cells": [
  {
   "cell_type": "markdown",
   "metadata": {},
   "source": [
    "# Performance Benchmark\n",
    "... on a simple double loop, whose size can be controlled with one of the parameters."
   ]
  },
  {
   "cell_type": "code",
   "execution_count": 1,
   "metadata": {},
   "outputs": [],
   "source": [
    "from chessai import BIG_LOOP\n",
    "SIZE = 3e4"
   ]
  },
  {
   "cell_type": "markdown",
   "metadata": {},
   "source": [
    "The following is a native python implementation of the `BIG_LOOP`. The `C++` implementation can be found under `./src/main.cpp`."
   ]
  },
  {
   "cell_type": "code",
   "execution_count": 2,
   "metadata": {},
   "outputs": [],
   "source": [
    "def PY_BIG_LOOP(size):\n",
    "    result = 0\n",
    "    for _ in range(size):\n",
    "        for _ in range(size):\n",
    "            result += 1\n",
    "    return float(result)"
   ]
  },
  {
   "cell_type": "markdown",
   "metadata": {},
   "source": [
    "My notebook has an integrated timer, so I won't record the execution time with `time`, but feel free to add it, if you don't have that luxury."
   ]
  },
  {
   "cell_type": "code",
   "execution_count": 3,
   "metadata": {},
   "outputs": [
    {
     "data": {
      "text/plain": [
       "900000000.0"
      ]
     },
     "execution_count": 3,
     "metadata": {},
     "output_type": "execute_result"
    }
   ],
   "source": [
    "PY_BIG_LOOP(int(SIZE))"
   ]
  },
  {
   "cell_type": "markdown",
   "metadata": {},
   "source": [
    "As we can see, the C++ implementation runs faster. Computational complexity squares with the input value."
   ]
  },
  {
   "cell_type": "code",
   "execution_count": 4,
   "metadata": {},
   "outputs": [
    {
     "data": {
      "text/plain": [
       "900000000.0"
      ]
     },
     "execution_count": 4,
     "metadata": {},
     "output_type": "execute_result"
    }
   ],
   "source": [
    "BIG_LOOP(int(SIZE))"
   ]
  }
 ],
 "metadata": {
  "interpreter": {
   "hash": "5eb35854c35379a40f3aa934716129289ed77c6c29e95484c03e606cd6fb73bb"
  },
  "kernelspec": {
   "display_name": "Python 3.9.12 ('chess-ai')",
   "language": "python",
   "name": "python3"
  },
  "language_info": {
   "codemirror_mode": {
    "name": "ipython",
    "version": 3
   },
   "file_extension": ".py",
   "mimetype": "text/x-python",
   "name": "python",
   "nbconvert_exporter": "python",
   "pygments_lexer": "ipython3",
   "version": "3.9.12"
  },
  "orig_nbformat": 4
 },
 "nbformat": 4,
 "nbformat_minor": 2
}
